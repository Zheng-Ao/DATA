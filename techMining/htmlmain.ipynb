{
 "cells": [
  {
   "cell_type": "code",
   "execution_count": 12,
   "metadata": {},
   "outputs": [],
   "source": [
    "import numpy as np\n",
    "import pandas as pd\n",
    "\n",
    "from htmlDloader import paDloader\n",
    "\n",
    "df = pd.read_csv(\"PNs/12.csv\")\n",
    "ls = [x[1] for x in df.values]"
   ]
  },
  {
   "cell_type": "code",
   "execution_count": 13,
   "metadata": {},
   "outputs": [
    {
     "data": {
      "text/plain": [
       "['11,093,795',\n",
       " '11,093,711',\n",
       " '11,093,632',\n",
       " '11,093,533',\n",
       " '11,093,519',\n",
       " '11,093,354',\n",
       " '11,092,966',\n",
       " '11,089,154',\n",
       " '11,087,865',\n",
       " '11,087,768']"
      ]
     },
     "execution_count": 13,
     "metadata": {},
     "output_type": "execute_result"
    }
   ],
   "source": [
    "ls[490:500]\n"
   ]
  },
  {
   "cell_type": "code",
   "execution_count": 14,
   "metadata": {},
   "outputs": [
    {
     "name": "stderr",
     "output_type": "stream",
     "text": [
      " 19%|█▉        | 113/600 [13:00<1:02:24,  7.69s/it]"
     ]
    },
    {
     "name": "stdout",
     "output_type": "stream",
     "text": [
      "10,936,363采集出错，出错原因：HTTPSConnectionPool(host='patft.uspto.gov', port=443): Max retries exceeded with url: /netacgi/nph-Parser?Sect1=PTO2&Sect2=HITOFF&u=%2Fnetahtml%2Fsearch-adv.htm&r=0&f=S&l=50&d=PALL&Query=ref/10,936,363&p=1 (Caused by ProxyError('Cannot connect to proxy.', ConnectionResetError(54, 'Connection reset by peer')))\n"
     ]
    },
    {
     "name": "stderr",
     "output_type": "stream",
     "text": [
      "100%|██████████| 600/600 [1:07:50<00:00,  6.78s/it]\n"
     ]
    }
   ],
   "source": [
    "DLer = paDloader()\n",
    "\n",
    "DLer.getRefHtmls(ls)"
   ]
  },
  {
   "cell_type": "code",
   "execution_count": null,
   "metadata": {},
   "outputs": [],
   "source": []
  },
  {
   "cell_type": "code",
   "execution_count": null,
   "metadata": {},
   "outputs": [],
   "source": [
    "# 改名\n",
    "# 把没有后缀的加上\"_1\"后缀\n",
    "\n",
    "# import os\n",
    "# path = './ref_htmls/'\n",
    "# files = os.listdir(path)\n",
    "# for i, file in enumerate(files):\n",
    "#     if file.endswith('_ref.html'):\n",
    "#         NewName = os.path.join(path, file[:-5]+ \"_1.html\")\n",
    "#         OldName = os.path.join(path, file)\n",
    "#         os.rename(OldName, NewName)\n",
    "\n",
    "'''这个挺有用的，别删了。'''"
   ]
  },
  {
   "cell_type": "code",
   "execution_count": null,
   "metadata": {},
   "outputs": [],
   "source": []
  },
  {
   "cell_type": "code",
   "execution_count": null,
   "metadata": {},
   "outputs": [],
   "source": []
  }
 ],
 "metadata": {
  "kernelspec": {
   "display_name": "Python 3.8.11 ('DataAnalysis')",
   "language": "python",
   "name": "python3"
  },
  "language_info": {
   "codemirror_mode": {
    "name": "ipython",
    "version": 3
   },
   "file_extension": ".py",
   "mimetype": "text/x-python",
   "name": "python",
   "nbconvert_exporter": "python",
   "pygments_lexer": "ipython3",
   "version": "3.8.11"
  },
  "orig_nbformat": 4,
  "vscode": {
   "interpreter": {
    "hash": "c18f0d304bfd4ea88d1106146a85daf3cb92cb10206ff0ef630b4b8ca37137ad"
   }
  }
 },
 "nbformat": 4,
 "nbformat_minor": 2
}
