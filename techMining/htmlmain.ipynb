{
 "cells": [
  {
   "cell_type": "code",
   "execution_count": 2,
   "metadata": {},
   "outputs": [],
   "source": [
    "import numpy as np\n",
    "import pandas as pd\n",
    "import os\n",
    "\n",
    "from htmlDloader import paDloader\n",
    "\n",
    "\n",
    "#   确保12-36的html一个不落的下载下来了\n",
    "\n",
    "df = pd.read_csv(\"PNs/12.csv\")\n",
    "ls = [x[1] for x in df.values]"
   ]
  },
  {
   "cell_type": "markdown",
   "metadata": {},
   "source": [
    "## chapter -0"
   ]
  },
  {
   "cell_type": "code",
   "execution_count": null,
   "metadata": {},
   "outputs": [],
   "source": [
    "'''补全12-36的两类html'''\n",
    "\n",
    "# DLer = paDloader()\n",
    "\n",
    "# path = './ref_htmls/'\n",
    "# files = os.listdir(path)\n",
    "\n",
    "# ls_add = []\n",
    "\n",
    "# for pn in ls:\n",
    "#     flag = False\n",
    "#     for file in files:\n",
    "#         filename = pn + '_ref_1.html'\n",
    "#         if file == filename:\n",
    "#             flag = True\n",
    "#     if flag == False:\n",
    "#         print(pn)\n",
    "#         ls_add.append(pn)\n",
    "\n",
    "# ls_add\n",
    "\n",
    "# DLer.getRefHtmls(ls_add)"
   ]
  },
  {
   "cell_type": "code",
   "execution_count": null,
   "metadata": {},
   "outputs": [],
   "source": [
    "# 改名\n",
    "# 把没有后缀的加上\"_1\"后缀\n",
    "\n",
    "# import os\n",
    "# path = './ref_htmls/'\n",
    "# files = os.listdir(path)\n",
    "# for i, file in enumerate(files):\n",
    "#     if file.endswith('_ref.html'):\n",
    "#         NewName = os.path.join(path, file[:-5]+ \"_1.html\")\n",
    "#         OldName = os.path.join(path, file)\n",
    "#         os.rename(OldName, NewName)\n",
    "\n",
    "'''这个挺有用的，别删了。'''"
   ]
  },
  {
   "cell_type": "markdown",
   "metadata": {},
   "source": [
    "## chapter -1"
   ]
  },
  {
   "cell_type": "code",
   "execution_count": 3,
   "metadata": {},
   "outputs": [
    {
     "name": "stderr",
     "output_type": "stream",
     "text": [
      "100%|██████████| 1/1 [00:27<00:00, 27.54s/it]\n"
     ]
    }
   ],
   "source": [
    "Dler = paDloader()\n",
    "ls_add = []\n",
    "pn = '5,392,223'\n",
    "ls_add.append(pn)\n",
    "\n",
    "Dler.getRefHtmls(pn_ls=ls_add)"
   ]
  },
  {
   "cell_type": "code",
   "execution_count": null,
   "metadata": {},
   "outputs": [],
   "source": []
  }
 ],
 "metadata": {
  "kernelspec": {
   "display_name": "Python 3.8.11 ('DataAnalysis')",
   "language": "python",
   "name": "python3"
  },
  "language_info": {
   "codemirror_mode": {
    "name": "ipython",
    "version": 3
   },
   "file_extension": ".py",
   "mimetype": "text/x-python",
   "name": "python",
   "nbconvert_exporter": "python",
   "pygments_lexer": "ipython3",
   "version": "3.8.11"
  },
  "orig_nbformat": 4,
  "vscode": {
   "interpreter": {
    "hash": "c18f0d304bfd4ea88d1106146a85daf3cb92cb10206ff0ef630b4b8ca37137ad"
   }
  }
 },
 "nbformat": 4,
 "nbformat_minor": 2
}
